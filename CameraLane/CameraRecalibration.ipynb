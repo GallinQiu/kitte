{
 "cells": [
  {
   "cell_type": "code",
   "execution_count": null,
   "metadata": {
    "collapsed": true
   },
   "outputs": [],
   "source": [
    "import cv2\n",
    "import urllib2\n",
    "import numpy as np\n",
    "import sys\n",
    "import matplotlib.pyplot as plt\n",
    "\n",
    "from linesearch import *\n",
    "\n",
    "%matplotlib inline"
   ]
  },
  {
   "cell_type": "code",
   "execution_count": null,
   "metadata": {
    "collapsed": true
   },
   "outputs": [],
   "source": [
    "host = \"192.168.1.85:8080\"\n",
    "hoststr = 'http://' + host + '/?action=stream'\n",
    "print 'Streaming ' + hoststr\n",
    "l_img = []\n",
    "\n",
    "n_row = 6\n",
    "n_col = 7"
   ]
  },
  {
   "cell_type": "markdown",
   "metadata": {},
   "source": [
    "# 从摄像头获取 20 张棋盘图，以及一张真实赛道图 （cal0.png）\n",
    "\n",
    "注意 ret 要为 true"
   ]
  },
  {
   "cell_type": "code",
   "execution_count": null,
   "metadata": {
    "collapsed": true
   },
   "outputs": [],
   "source": [
    "stream=urllib2.urlopen(hoststr)\n",
    "bytes=''\n",
    "while True:\n",
    "    bytes+=stream.read(1024)\n",
    "    a = bytes.find('\\xff\\xd8')\n",
    "    b = bytes.find('\\xff\\xd9')\n",
    "    if a!=-1 and b!=-1:\n",
    "        break\n",
    "        \n",
    "jpg = bytes[a:b+2]\n",
    "bytes= bytes[b+2:]\n",
    "img = cv2.imdecode(np.fromstring(jpg, dtype=np.uint8),flags=1)\n",
    "\n",
    "plt.imshow(img)\n",
    "gray = cv2.cvtColor(img, cv2.COLOR_BGR2GRAY)\n",
    "gray = (gray<180).astype(np.uint8)*255\n",
    "ret, corners = cv2.findChessboardCorners(gray, (n_col,n_row), None)\n",
    "print(ret)\n",
    "l_img.append(img)"
   ]
  },
  {
   "cell_type": "code",
   "execution_count": null,
   "metadata": {
    "collapsed": true
   },
   "outputs": [],
   "source": [
    "plt.imshow(gray, 'gray')"
   ]
  },
  {
   "cell_type": "code",
   "execution_count": null,
   "metadata": {
    "collapsed": true
   },
   "outputs": [],
   "source": [
    "#cv2.imwrite(\"./cal0.png\", img)"
   ]
  },
  {
   "cell_type": "markdown",
   "metadata": {},
   "source": [
    "# 校正棋盘图"
   ]
  },
  {
   "cell_type": "code",
   "execution_count": null,
   "metadata": {
    "collapsed": true
   },
   "outputs": [],
   "source": [
    "objp = np.zeros((n_row*n_col, 3), np.float32)\n",
    "objp[:,:2] = np.mgrid[0:n_col, 0:n_row].T.reshape(-1,2)\n",
    "objpoints = []\n",
    "imgpoints = []\n",
    "img_size = (480, 640)\n",
    "\n",
    "for i in range(21):\n",
    "    img1 = cv2.imread('./calibrateImage/cal%d.png' % (i))\n",
    "    gray = cv2.cvtColor(img1, cv2.COLOR_BGR2GRAY)\n",
    "    gray = (gray<180).astype(np.uint8)*255\n",
    "    ret, corners = cv2.findChessboardCorners(gray, (n_col,n_row), None)\n",
    "    if ret is True:\n",
    "        objpoints.append(objp)\n",
    "        imgpoints.append(corners)\n",
    "        \n",
    "ret,mtx,dist,rvecs,tvecs = cv2.calibrateCamera(objpoints, imgpoints, img_size, None, None)"
   ]
  },
  {
   "cell_type": "code",
   "execution_count": null,
   "metadata": {
    "collapsed": true
   },
   "outputs": [],
   "source": [
    "ret"
   ]
  },
  {
   "cell_type": "markdown",
   "metadata": {},
   "source": [
    "# 内参"
   ]
  },
  {
   "cell_type": "code",
   "execution_count": null,
   "metadata": {
    "collapsed": true
   },
   "outputs": [],
   "source": [
    "K = mtx\n",
    "K"
   ]
  },
  {
   "cell_type": "code",
   "execution_count": null,
   "metadata": {
    "collapsed": true
   },
   "outputs": [],
   "source": [
    "D = dist\n",
    "D"
   ]
  },
  {
   "cell_type": "markdown",
   "metadata": {},
   "source": [
    "# 赛道外参 （cal0.png）"
   ]
  },
  {
   "cell_type": "code",
   "execution_count": null,
   "metadata": {
    "collapsed": true
   },
   "outputs": [],
   "source": [
    "R,_ = cv2.Rodrigues(rvecs[0])\n",
    "R"
   ]
  },
  {
   "cell_type": "code",
   "execution_count": null,
   "metadata": {
    "collapsed": true
   },
   "outputs": [],
   "source": [
    "T = tvecs[0]\n",
    "T"
   ]
  },
  {
   "cell_type": "code",
   "execution_count": null,
   "metadata": {
    "collapsed": true
   },
   "outputs": [],
   "source": [
    "x_start = -6\n",
    "x_end = 14\n",
    "y_start = -30\n",
    "y_end = 0\n",
    "coord_3d = np.float32([\n",
    "    [x_start, y_start,0],\n",
    "    [x_start, y_end,  0],\n",
    "    [x_end,   y_start,0],\n",
    "    [x_end,   y_end,  0],\n",
    "]).reshape([-1, 3])\n",
    "\n",
    "\n",
    "src,jac = cv2.projectPoints(coord_3d, R, T, K, D)\n",
    "src = src[src[:,0,:].argsort(axis=0)[:,0],0,:]\n",
    "src = src.reshape([1,4,2])\n",
    "src.astype(np.int)"
   ]
  },
  {
   "cell_type": "markdown",
   "metadata": {},
   "source": [
    "# 直线校正\n",
    "\n",
    "相机参数校正的 src 有问题，用直线校正。"
   ]
  },
  {
   "cell_type": "code",
   "execution_count": null,
   "metadata": {
    "collapsed": true
   },
   "outputs": [],
   "source": [
    "img = cv2.imread(\"./cal0.png\")\n",
    "plt.imshow(img)"
   ]
  },
  {
   "cell_type": "code",
   "execution_count": null,
   "metadata": {
    "collapsed": true
   },
   "outputs": [],
   "source": []
  },
  {
   "cell_type": "code",
   "execution_count": null,
   "metadata": {
    "collapsed": true
   },
   "outputs": [],
   "source": [
    "img = cv2.imread('cal0.png')\n",
    "gray = cv2.cvtColor(img, cv2.COLOR_BGR2GRAY)\n",
    "gray = (gray<180).astype(np.uint8)*255\n",
    "    \n",
    "dst = np.array([[\n",
    "    [10,200],\n",
    "    [10,0],\n",
    "    [90,0],\n",
    "    [90,200]\n",
    "]]).astype(np.float32)\n",
    "M    = cv2.getPerspectiveTransform(src, dst)\n",
    "Minv = cv2.getPerspectiveTransform(dst, src)\n",
    "img_t = cv2.warpPerspective(gray, M, (100,200), cv2.WARP_INVERSE_MAP)\n",
    "\n",
    "plt.imshow(img_t, 'gray')"
   ]
  },
  {
   "cell_type": "markdown",
   "metadata": {},
   "source": [
    "# 真实图片"
   ]
  },
  {
   "cell_type": "code",
   "execution_count": null,
   "metadata": {
    "collapsed": true
   },
   "outputs": [],
   "source": [
    "src = np.array([[\n",
    "    [0, 350],\n",
    "    [240,240],\n",
    "    [400,240],\n",
    "    [640,350]\n",
    "]]).astype(np.float32)\n",
    "\n",
    "dst = np.array([[\n",
    "    [10,200],\n",
    "    [10,0],\n",
    "    [90,0],\n",
    "    [90,200]\n",
    "]]).astype(np.float32)\n",
    "M    = cv2.getPerspectiveTransform(src, dst)\n",
    "\n",
    "initParams = [\n",
    "        np.linspace(0.001, 0.02, 10),\n",
    "        np.array(list(np.linspace(1.5, 50, 10)) + list(np.linspace(-50, 1.5, 10))),\n",
    "        np.arange( 40, 50, 2),\n",
    "        np.arange(-15, 15, 2)\n",
    "]\n",
    "refPos = [50, 180] # The position of the top-center of chess-board on the ground in img_t\n",
    "    \n",
    "def imageReadFromraspberryPi(hoststr):\n",
    "    stream=urllib2.urlopen(hoststr)\n",
    "    bytes=''\n",
    "    while True:\n",
    "        bytes+=stream.read(1024)\n",
    "        a = bytes.find('\\xff\\xd8')\n",
    "        b = bytes.find('\\xff\\xd9')\n",
    "        if a!=-1 and b!=-1:\n",
    "            break\n",
    "        \n",
    "    jpg = bytes[a:b+2]\n",
    "    bytes= bytes[b+2:]\n",
    "    img = cv2.imdecode(np.fromstring(jpg, dtype=np.uint8),flags=1)\n",
    "    return img\n",
    "\n",
    "\n",
    "def perspectTransform(img, M_trans):\n",
    "    # binarize image for white line\n",
    "    gray = cv2.cvtColor(img, cv2.COLOR_BGR2GRAY)\n",
    "    gray = (gray<180).astype(np.uint8)*255\n",
    "    \n",
    "    # perspectTransform binarized image\n",
    "    img_t = cv2.warpPerspective(gray, M_trans, (100,200), cv2.WARP_INVERSE_MAP)\n",
    "    img_t[180:,0:10] = 255\n",
    "    img_t[180:,90:]  = 255\n",
    "    return img_t\n",
    "\n",
    "\n",
    "def processImage(hoststr, M_trans, initParams, refPos):\n",
    "    seedParams = []\n",
    "    \n",
    "    while 1:\n",
    "        img = imageReadFromraspberryPi(hoststr)\n",
    "        img_t = perspectTransform(img, M_trans)\n",
    "        paramSearch = None\n",
    "        if len(seedParams) == 0:\n",
    "            paramSearch = initParams\n",
    "        else:\n",
    "            lla = np.linspace(seedParams[0]-(initParams[0][1]-initParams[0][0]),\n",
    "                              seedParams[0]+(initParams[0][1]-initParams[0][0]), 3)\n",
    "            llb = np.linspace(seedParams[1]-(initParams[1][1]-initParams[1][0]),\n",
    "                              seedParams[1]+(initParams[1][1]-initParams[1][0]), 3)\n",
    "            llc = np.arange(seedParams[2]-2, seedParams[2]+3, 2)\n",
    "            lld = np.arange(seedParams[3]-1, seedParams[3]+2)\n",
    "            paramSearch = [lla, llb, llc, lld]\n",
    "\n",
    "        coords,params = getBestParams(img_t, paramSearch, refPos)\n",
    "        score = params[4]\n",
    "        if score < 50:\n",
    "            seedParams = []\n",
    "        else:\n",
    "            seedParams = params\n",
    "        \n",
    "        print(params)"
   ]
  },
  {
   "cell_type": "code",
   "execution_count": null,
   "metadata": {
    "collapsed": true,
    "scrolled": true
   },
   "outputs": [],
   "source": [
    "processImage(hoststr, M, initParams, refPos)"
   ]
  },
  {
   "cell_type": "code",
   "execution_count": null,
   "metadata": {
    "collapsed": true
   },
   "outputs": [],
   "source": [
    "stream=urllib2.urlopen(hoststr)\n",
    "bytes=''\n",
    "while True:\n",
    "    bytes+=stream.read(1024)\n",
    "    a = bytes.find('\\xff\\xd8')\n",
    "    b = bytes.find('\\xff\\xd9')\n",
    "    if a!=-1 and b!=-1:\n",
    "        break\n",
    "        \n",
    "jpg = bytes[a:b+2]\n",
    "bytes= bytes[b+2:]\n",
    "img = cv2.imdecode(np.fromstring(jpg, dtype=np.uint8),flags=1)\n",
    "gray = cv2.cvtColor(img, cv2.COLOR_BGR2GRAY)\n",
    "gray = (gray<180).astype(np.uint8)*255\n",
    "dst = np.array([[\n",
    "    [10,200],\n",
    "    [10,0],\n",
    "    [90,0],\n",
    "    [90,200]\n",
    "]]).astype(np.float32)\n",
    "M    = cv2.getPerspectiveTransform(src, dst)\n",
    "Minv = cv2.getPerspectiveTransform(dst, src)\n",
    "img_t = cv2.warpPerspective(gray, M, (100,200), cv2.WARP_INVERSE_MAP)\n",
    "img_t[180:,0:10] = 255.\n",
    "img_t[180:,90:]  = 255.\n",
    "\n",
    "plt.imshow(img_t, 'gray')"
   ]
  },
  {
   "cell_type": "code",
   "execution_count": null,
   "metadata": {
    "collapsed": true
   },
   "outputs": [],
   "source": [
    "initParams = [\n",
    "        np.linspace(0.001, 0.02, 10),\n",
    "        np.array(list(np.linspace(1.5, 50, 10)) + list(np.linspace(-50, 1.5, 10))),\n",
    "        np.arange( 40, 50, 2),\n",
    "        np.arange(-15, 15, 2)\n",
    "]\n",
    "refPos = [50, 180]  \n",
    "seedParams = []\n",
    "paramSearch = None\n",
    "\n",
    "if len(seedParams) == 0:\n",
    "    paramSearch = initParams\n",
    "else:\n",
    "    lla = np.linspace(seedParams[0]-(initParams[0][1]-initParams[0][0]),\n",
    "                      seedParams[0]+(initParams[0][1]-initParams[0][0]), 3)\n",
    "    llb = np.linspace(seedParams[1]-(initParams[1][1]-initParams[1][0]),\n",
    "                      seedParams[1]+(initParams[1][1]-initParams[1][0]), 3)\n",
    "    llc = np.arange(seedParams[2]-2, seedParams[2]+3, 2)\n",
    "    lld = np.arange(seedParams[3]-1, seedParams[3]+2)\n",
    "    paramSearch = [lla, llb, llc, lld]\n",
    "\n",
    "coords,params = getBestParams(img_t, paramSearch, refPos)\n"
   ]
  },
  {
   "cell_type": "code",
   "execution_count": null,
   "metadata": {
    "collapsed": true
   },
   "outputs": [],
   "source": []
  },
  {
   "cell_type": "code",
   "execution_count": null,
   "metadata": {
    "collapsed": true
   },
   "outputs": [],
   "source": [
    "plt.imshow(img_t, 'gray')\n"
   ]
  },
  {
   "cell_type": "code",
   "execution_count": null,
   "metadata": {
    "collapsed": true
   },
   "outputs": [],
   "source": [
    "plt.imshow(img_t, \"gray\")\n",
    "for i in range(4):\n",
    "    plt.plot(coords[i], coords[4])\n",
    "    \n",
    "plt.xlim(0, 100)"
   ]
  },
  {
   "cell_type": "code",
   "execution_count": null,
   "metadata": {
    "collapsed": true
   },
   "outputs": [],
   "source": []
  }
 ],
 "metadata": {
  "kernelspec": {
   "display_name": "Python 2",
   "language": "python",
   "name": "python2"
  },
  "language_info": {
   "codemirror_mode": {
    "name": "ipython",
    "version": 2
   },
   "file_extension": ".py",
   "mimetype": "text/x-python",
   "name": "python",
   "nbconvert_exporter": "python",
   "pygments_lexer": "ipython2",
   "version": "2.7.13"
  }
 },
 "nbformat": 4,
 "nbformat_minor": 2
}
